{
 "cells": [
  {
   "cell_type": "markdown",
   "metadata": {},
   "source": [
    "# Web Demo"
   ]
  },
  {
   "cell_type": "code",
   "execution_count": 1,
   "metadata": {},
   "outputs": [],
   "source": [
    "from farfetch import Farfetch"
   ]
  },
  {
   "cell_type": "code",
   "execution_count": 2,
   "metadata": {
    "scrolled": false
   },
   "outputs": [
    {
     "name": "stdout",
     "output_type": "stream",
     "text": [
      "Total number of product ratings:   21641\n",
      "Total number of in-stock ratings:  16105\n",
      "Total number of unique customers:  9667\n",
      "Total number of unique products:   13518\n"
     ]
    }
   ],
   "source": [
    "ff          = Farfetch()\n",
    "correlation = ff.load_content_similarity_matrix(\"../Data/content_similarity_matrix_GMC.pkl\")"
   ]
  },
  {
   "cell_type": "code",
   "execution_count": 3,
   "metadata": {},
   "outputs": [],
   "source": [
    "# Start new web demonstration\n",
    "ff.start_demo()"
   ]
  },
  {
   "cell_type": "code",
   "execution_count": 4,
   "metadata": {},
   "outputs": [
    {
     "name": "stdout",
     "output_type": "stream",
     "text": [
      "Please enter a product rating on 1 to 5 scale:\n",
      "5\n"
     ]
    },
    {
     "data": {
      "text/html": [
       "<div>\n",
       "<style scoped>\n",
       "    .dataframe tbody tr th:only-of-type {\n",
       "        vertical-align: middle;\n",
       "    }\n",
       "\n",
       "    .dataframe tbody tr th {\n",
       "        vertical-align: top;\n",
       "    }\n",
       "\n",
       "    .dataframe thead th {\n",
       "        text-align: right;\n",
       "    }\n",
       "</style>\n",
       "<table border=\"1\" class=\"dataframe\">\n",
       "  <thead>\n",
       "    <tr style=\"text-align: right;\">\n",
       "      <th></th>\n",
       "      <th>URL</th>\n",
       "      <th>Product</th>\n",
       "      <th>Original</th>\n",
       "      <th>Discount</th>\n",
       "      <th>Gender</th>\n",
       "      <th>Made In</th>\n",
       "      <th>Designer</th>\n",
       "      <th>Category</th>\n",
       "      <th>Total Ratings</th>\n",
       "      <th>User Rating</th>\n",
       "      <th>Recommended By</th>\n",
       "    </tr>\n",
       "  </thead>\n",
       "  <tbody>\n",
       "    <tr>\n",
       "      <th>0</th>\n",
       "      <td>https://www.farfetch.com/shopping/women/gucci-...</td>\n",
       "      <td>Leather belt with double G buckle</td>\n",
       "      <td>460</td>\n",
       "      <td>0</td>\n",
       "      <td>Women</td>\n",
       "      <td>Made in Italy</td>\n",
       "      <td>Gucci</td>\n",
       "      <td>Accessories</td>\n",
       "      <td>15</td>\n",
       "      <td>5</td>\n",
       "      <td>Most Rated</td>\n",
       "    </tr>\n",
       "  </tbody>\n",
       "</table>\n",
       "</div>"
      ],
      "text/plain": [
       "                                                 URL  \\\n",
       "0  https://www.farfetch.com/shopping/women/gucci-...   \n",
       "\n",
       "                             Product Original Discount Gender        Made In  \\\n",
       "0  Leather belt with double G buckle      460        0  Women  Made in Italy   \n",
       "\n",
       "  Designer     Category Total Ratings User Rating Recommended By  \n",
       "0    Gucci  Accessories            15           5     Most Rated  "
      ]
     },
     "execution_count": 4,
     "metadata": {},
     "output_type": "execute_result"
    }
   ],
   "source": [
    "# Show next recommendation\n",
    "ff.next_recommendation()\n",
    "ff.recommender_system.recommender_history"
   ]
  },
  {
   "cell_type": "code",
   "execution_count": null,
   "metadata": {},
   "outputs": [],
   "source": [
    "# Clear recommendation history and go to homepage\n",
    "ff.new_user()\n",
    "ff.recommender_system.recommender_history"
   ]
  },
  {
   "cell_type": "code",
   "execution_count": 5,
   "metadata": {},
   "outputs": [],
   "source": [
    "# Close web browser and demonstration\n",
    "ff.end_demo()"
   ]
  },
  {
   "cell_type": "code",
   "execution_count": null,
   "metadata": {},
   "outputs": [],
   "source": []
  }
 ],
 "metadata": {
  "kernelspec": {
   "display_name": "Python 3",
   "language": "python",
   "name": "python3"
  },
  "language_info": {
   "codemirror_mode": {
    "name": "ipython",
    "version": 3
   },
   "file_extension": ".py",
   "mimetype": "text/x-python",
   "name": "python",
   "nbconvert_exporter": "python",
   "pygments_lexer": "ipython3",
   "version": "3.7.1"
  }
 },
 "nbformat": 4,
 "nbformat_minor": 2
}
