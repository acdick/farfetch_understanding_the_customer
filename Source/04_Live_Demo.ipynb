{
 "cells": [
  {
   "cell_type": "markdown",
   "metadata": {},
   "source": [
    "# Web Demo"
   ]
  },
  {
   "cell_type": "code",
   "execution_count": 1,
   "metadata": {},
   "outputs": [],
   "source": [
    "from farfetch import Farfetch"
   ]
  },
  {
   "cell_type": "code",
   "execution_count": 2,
   "metadata": {
    "scrolled": false
   },
   "outputs": [
    {
     "name": "stdout",
     "output_type": "stream",
     "text": [
      "Total number of product ratings:   21641\n",
      "Total number of in-stock ratings:  16105\n",
      "Total number of unique customers:  9667\n",
      "Total number of unique products:   13518\n"
     ]
    }
   ],
   "source": [
    "# Start new web demonstration\n",
    "ff          = Farfetch()\n",
    "correlation = ff.load_content_similarity_matrix(\"../Data/content_similarity_matrix_GMC.pkl\")\n",
    "ff.start_demo()"
   ]
  },
  {
   "cell_type": "code",
   "execution_count": 3,
   "metadata": {
    "scrolled": false
   },
   "outputs": [
    {
     "name": "stdout",
     "output_type": "stream",
     "text": [
      "Please enter your name:\n",
      "Tony\n",
      "Current user: flatiron_Tony\n",
      "Please enter a product rating on 1 to 5 scale:\n",
      "1\n",
      "Please enter a product rating on 1 to 5 scale:\n",
      "4\n",
      "Please enter a product rating on 1 to 5 scale:\n",
      "1\n",
      "Please enter a product rating on 1 to 5 scale:\n",
      "4\n",
      "Please enter a product rating on 1 to 5 scale:\n",
      "3\n",
      "Please enter a product rating on 1 to 5 scale:\n",
      "5\n",
      "Please enter a product rating on 1 to 5 scale:\n",
      "n\n"
     ]
    },
    {
     "data": {
      "text/html": [
       "<div>\n",
       "<style scoped>\n",
       "    .dataframe tbody tr th:only-of-type {\n",
       "        vertical-align: middle;\n",
       "    }\n",
       "\n",
       "    .dataframe tbody tr th {\n",
       "        vertical-align: top;\n",
       "    }\n",
       "\n",
       "    .dataframe thead th {\n",
       "        text-align: right;\n",
       "    }\n",
       "</style>\n",
       "<table border=\"1\" class=\"dataframe\">\n",
       "  <thead>\n",
       "    <tr style=\"text-align: right;\">\n",
       "      <th></th>\n",
       "      <th>URL</th>\n",
       "      <th>Product</th>\n",
       "      <th>Original</th>\n",
       "      <th>Discount</th>\n",
       "      <th>On Sale</th>\n",
       "      <th>Gender</th>\n",
       "      <th>Made In</th>\n",
       "      <th>Designer</th>\n",
       "      <th>Category</th>\n",
       "      <th>Total Ratings</th>\n",
       "      <th>User Rating</th>\n",
       "      <th>Recommended By</th>\n",
       "    </tr>\n",
       "  </thead>\n",
       "  <tbody>\n",
       "    <tr>\n",
       "      <th>0</th>\n",
       "      <td>https://www.farfetch.com/shopping/women/gucci-...</td>\n",
       "      <td>Leather belt with double G buckle</td>\n",
       "      <td>460</td>\n",
       "      <td>0</td>\n",
       "      <td>460</td>\n",
       "      <td>Women</td>\n",
       "      <td>Made in Italy</td>\n",
       "      <td>Gucci</td>\n",
       "      <td>Accessories</td>\n",
       "      <td>15</td>\n",
       "      <td>1</td>\n",
       "      <td>Most Rated Products</td>\n",
       "    </tr>\n",
       "    <tr>\n",
       "      <th>1</th>\n",
       "      <td>https://www.farfetch.com/shopping/women/adidas...</td>\n",
       "      <td>Alphaedge 4D sneakers</td>\n",
       "      <td>317</td>\n",
       "      <td>0</td>\n",
       "      <td>317</td>\n",
       "      <td>Men</td>\n",
       "      <td>Imported</td>\n",
       "      <td>Adidas</td>\n",
       "      <td>Shoes</td>\n",
       "      <td>10</td>\n",
       "      <td>4</td>\n",
       "      <td>Best One Subcategory</td>\n",
       "    </tr>\n",
       "    <tr>\n",
       "      <th>2</th>\n",
       "      <td>https://www.farfetch.com/shopping/women/dolce-...</td>\n",
       "      <td>black crown logo print cotton t shirt</td>\n",
       "      <td>427</td>\n",
       "      <td>0</td>\n",
       "      <td>427</td>\n",
       "      <td>Men</td>\n",
       "      <td>Imported</td>\n",
       "      <td>Dolce &amp; Gabbana</td>\n",
       "      <td>Clothing</td>\n",
       "      <td>4</td>\n",
       "      <td>1</td>\n",
       "      <td>Best Nine Subcategories</td>\n",
       "    </tr>\n",
       "    <tr>\n",
       "      <th>3</th>\n",
       "      <td>https://www.farfetch.com/shopping/women/gucci-...</td>\n",
       "      <td>Ace embroidered low-top sneaker</td>\n",
       "      <td>650</td>\n",
       "      <td>0</td>\n",
       "      <td>650</td>\n",
       "      <td>Women</td>\n",
       "      <td>Made in Italy</td>\n",
       "      <td>Gucci</td>\n",
       "      <td>Shoes</td>\n",
       "      <td>5</td>\n",
       "      <td>4</td>\n",
       "      <td>Best Nine Subcategories</td>\n",
       "    </tr>\n",
       "    <tr>\n",
       "      <th>4</th>\n",
       "      <td>https://www.farfetch.com/shopping/women/dolce-...</td>\n",
       "      <td>Portofino sneakers</td>\n",
       "      <td>495</td>\n",
       "      <td>0</td>\n",
       "      <td>495</td>\n",
       "      <td>Men</td>\n",
       "      <td>Made in Italy</td>\n",
       "      <td>Dolce &amp; Gabbana</td>\n",
       "      <td>Shoes</td>\n",
       "      <td>5</td>\n",
       "      <td>3</td>\n",
       "      <td>Best Nine Subcategories</td>\n",
       "    </tr>\n",
       "    <tr>\n",
       "      <th>5</th>\n",
       "      <td>https://www.farfetch.com/shopping/women/comme-...</td>\n",
       "      <td>Spalwart X Comme Des Garçon sneakers</td>\n",
       "      <td>317</td>\n",
       "      <td>0</td>\n",
       "      <td>317</td>\n",
       "      <td>Men</td>\n",
       "      <td>Imported</td>\n",
       "      <td>Comme Des Garçons Shirt</td>\n",
       "      <td>Shoes</td>\n",
       "      <td>1</td>\n",
       "      <td>5</td>\n",
       "      <td>Content-Based Pearson Similarity</td>\n",
       "    </tr>\n",
       "    <tr>\n",
       "      <th>6</th>\n",
       "      <td>https://www.farfetch.com/shopping/women/off-wh...</td>\n",
       "      <td>Vulcanized striped sneakers</td>\n",
       "      <td>315</td>\n",
       "      <td>0</td>\n",
       "      <td>315</td>\n",
       "      <td>Men</td>\n",
       "      <td>Imported</td>\n",
       "      <td>Off-White</td>\n",
       "      <td>Shoes</td>\n",
       "      <td>2</td>\n",
       "      <td>5</td>\n",
       "      <td>Content-Based Pearson Similarity</td>\n",
       "    </tr>\n",
       "  </tbody>\n",
       "</table>\n",
       "</div>"
      ],
      "text/plain": [
       "                                                 URL  \\\n",
       "0  https://www.farfetch.com/shopping/women/gucci-...   \n",
       "1  https://www.farfetch.com/shopping/women/adidas...   \n",
       "2  https://www.farfetch.com/shopping/women/dolce-...   \n",
       "3  https://www.farfetch.com/shopping/women/gucci-...   \n",
       "4  https://www.farfetch.com/shopping/women/dolce-...   \n",
       "5  https://www.farfetch.com/shopping/women/comme-...   \n",
       "6  https://www.farfetch.com/shopping/women/off-wh...   \n",
       "\n",
       "                                 Product Original Discount On Sale Gender  \\\n",
       "0      Leather belt with double G buckle      460        0     460  Women   \n",
       "1                  Alphaedge 4D sneakers      317        0     317    Men   \n",
       "2  black crown logo print cotton t shirt      427        0     427    Men   \n",
       "3        Ace embroidered low-top sneaker      650        0     650  Women   \n",
       "4                     Portofino sneakers      495        0     495    Men   \n",
       "5   Spalwart X Comme Des Garçon sneakers      317        0     317    Men   \n",
       "6            Vulcanized striped sneakers      315        0     315    Men   \n",
       "\n",
       "         Made In                 Designer     Category Total Ratings  \\\n",
       "0  Made in Italy                    Gucci  Accessories            15   \n",
       "1       Imported                   Adidas        Shoes            10   \n",
       "2       Imported          Dolce & Gabbana     Clothing             4   \n",
       "3  Made in Italy                    Gucci        Shoes             5   \n",
       "4  Made in Italy          Dolce & Gabbana        Shoes             5   \n",
       "5       Imported  Comme Des Garçons Shirt        Shoes             1   \n",
       "6       Imported                Off-White        Shoes             2   \n",
       "\n",
       "  User Rating                    Recommended By  \n",
       "0           1               Most Rated Products  \n",
       "1           4              Best One Subcategory  \n",
       "2           1           Best Nine Subcategories  \n",
       "3           4           Best Nine Subcategories  \n",
       "4           3           Best Nine Subcategories  \n",
       "5           5  Content-Based Pearson Similarity  \n",
       "6           5  Content-Based Pearson Similarity  "
      ]
     },
     "execution_count": 3,
     "metadata": {},
     "output_type": "execute_result"
    }
   ],
   "source": [
    "# Clear recommendation history and go to homepage\n",
    "n_factors = 10\n",
    "reg_all   = 0.1\n",
    "ff.new_user(n_factors, reg_all)"
   ]
  },
  {
   "cell_type": "code",
   "execution_count": 4,
   "metadata": {},
   "outputs": [],
   "source": [
    "# Close web browser and demonstration\n",
    "ff.end_demo()"
   ]
  },
  {
   "cell_type": "code",
   "execution_count": null,
   "metadata": {},
   "outputs": [],
   "source": [
    "# Query recommender history item\n",
    "ff.recommender_system.recommender_history['URL'].iloc[-1]"
   ]
  },
  {
   "cell_type": "code",
   "execution_count": null,
   "metadata": {},
   "outputs": [],
   "source": []
  }
 ],
 "metadata": {
  "kernelspec": {
   "display_name": "Python 3",
   "language": "python",
   "name": "python3"
  },
  "language_info": {
   "codemirror_mode": {
    "name": "ipython",
    "version": 3
   },
   "file_extension": ".py",
   "mimetype": "text/x-python",
   "name": "python",
   "nbconvert_exporter": "python",
   "pygments_lexer": "ipython3",
   "version": "3.7.1"
  }
 },
 "nbformat": 4,
 "nbformat_minor": 2
}
